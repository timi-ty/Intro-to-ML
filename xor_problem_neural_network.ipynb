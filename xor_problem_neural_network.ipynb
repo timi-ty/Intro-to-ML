{
 "cells": [
  {
   "cell_type": "code",
   "execution_count": 145,
   "metadata": {},
   "outputs": [],
   "source": [
    "import numpy as np"
   ]
  },
  {
   "cell_type": "code",
   "execution_count": 146,
   "metadata": {},
   "outputs": [],
   "source": [
    "x1 = [[0, 0, 1, 1]]\n",
    "x2 = [[0, 1, 0, 1]]"
   ]
  },
  {
   "cell_type": "code",
   "execution_count": 147,
   "metadata": {},
   "outputs": [],
   "source": [
    "def perceptronlayer(theta, x):\n",
    "    hidden_layer = theta.dot(x)\n",
    "    for i, h in enumerate(hidden_layer):\n",
    "        h = sigmoid(h)\n",
    "        hidden_layer[i] = h\n",
    "    return hidden_layer"
   ]
  },
  {
   "cell_type": "code",
   "execution_count": 148,
   "metadata": {},
   "outputs": [],
   "source": [
    "def layerone(inputx):\n",
    "    theta = np.array([[30, -20, -20], [-10, 20, 20]])\n",
    "    inputx = np.array([1, inputx[0], input[1]])\n",
    "    inputx.reshape([-1, 1])\n",
    "    out = perceptronlayer(theta, inputx)\n",
    "    out = np.array([1, out[0], out[1]])\n",
    "    return out"
   ]
  },
  {
   "cell_type": "code",
   "execution_count": 149,
   "metadata": {},
   "outputs": [],
   "source": [
    "def outputlayer(inputx):\n",
    "    theta = np.array([[-30, 20, 20]])\n",
    "    inputx = inputx.reshape([-1, 1])\n",
    "    return perceptronlayer(theta, inputx)"
   ]
  },
  {
   "cell_type": "code",
   "execution_count": 150,
   "metadata": {},
   "outputs": [],
   "source": [
    "def sigmoid(z):\n",
    "    h = 1/(1 + np.exp(-z))\n",
    "    if(h > 0.6):\n",
    "        return 1\n",
    "    elif(h < 0.4):\n",
    "        return 0\n",
    "    else:\n",
    "        return \"unsure\""
   ]
  },
  {
   "cell_type": "code",
   "execution_count": 152,
   "metadata": {},
   "outputs": [
    {
     "name": "stdout",
     "output_type": "stream",
     "text": [
      "[[0]]\n",
      "[[1]]\n",
      "[[1]]\n",
      "[[0]]\n"
     ]
    }
   ],
   "source": [
    "inputx = np.vstack([x1, x2])\n",
    "inputx = np.transpose(inputx)\n",
    "\n",
    "for x in inputx:\n",
    "    h = layerone(x)\n",
    "    y = outputlayer(h)\n",
    "    print(y)"
   ]
  },
  {
   "cell_type": "code",
   "execution_count": null,
   "metadata": {},
   "outputs": [],
   "source": []
  }
 ],
 "metadata": {
  "kernelspec": {
   "display_name": "Python 3",
   "language": "python",
   "name": "python3"
  },
  "language_info": {
   "codemirror_mode": {
    "name": "ipython",
    "version": 3
   },
   "file_extension": ".py",
   "mimetype": "text/x-python",
   "name": "python",
   "nbconvert_exporter": "python",
   "pygments_lexer": "ipython3",
   "version": "3.7.3"
  }
 },
 "nbformat": 4,
 "nbformat_minor": 4
}
