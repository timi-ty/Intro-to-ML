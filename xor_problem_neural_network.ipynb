{
 "cells": [
  {
   "cell_type": "code",
   "execution_count": 13,
   "metadata": {},
   "outputs": [],
   "source": [
    "import numpy as np"
   ]
  },
  {
   "cell_type": "markdown",
   "metadata": {},
   "source": [
    "## Prepare Input Data"
   ]
  },
  {
   "cell_type": "code",
   "execution_count": 14,
   "metadata": {},
   "outputs": [
    {
     "name": "stdout",
     "output_type": "stream",
     "text": [
      "x1 x2\n",
      "[0 0]\n",
      "[0 1]\n",
      "[1 0]\n",
      "[1 1]\n"
     ]
    }
   ],
   "source": [
    "#Creating and arranging input data\n",
    "x1 = [[0, 0, 1, 1]]\n",
    "x2 = [[0, 1, 0, 1]]\n",
    "\n",
    "inputx = np.vstack([x1, x2])\n",
    "inputx = np.transpose(inputx)\n",
    "\n",
    "print(\"x1\", \"x2\")\n",
    "for x in inputx:\n",
    "    print(x)"
   ]
  },
  {
   "cell_type": "markdown",
   "metadata": {},
   "source": [
    "## Create Neural Network Functions"
   ]
  },
  {
   "cell_type": "code",
   "execution_count": 15,
   "metadata": {},
   "outputs": [],
   "source": [
    "#This is the template all network layers will use to compute their outputs\n",
    "def perceptronlayer(theta, x):\n",
    "    hidden_layer = theta.dot(x)\n",
    "    for i, h in enumerate(hidden_layer):\n",
    "        h = sigmoid(h)\n",
    "        hidden_layer[i] = h\n",
    "    return hidden_layer"
   ]
  },
  {
   "cell_type": "code",
   "execution_count": 16,
   "metadata": {},
   "outputs": [],
   "source": [
    "#This is the first layer of the neural network\n",
    "def layerone(inputx):\n",
    "    \n",
    "    #Creating wheights: NAND wheights     OR weights\n",
    "    theta =   np.array([[30, -20, -20], [-10, 20, 20]])\n",
    "    \n",
    "    #Attach 1 to the input for biasing purposes\n",
    "    inputx = np.hstack(([1], inputx))\n",
    "    \n",
    "    #Shape input as a column vector\n",
    "    inputx.reshape([-1, 1])\n",
    "    \n",
    "    #Apply template to finalize network layer\n",
    "    out = perceptronlayer(theta, inputx)\n",
    "    \n",
    "    return out"
   ]
  },
  {
   "cell_type": "code",
   "execution_count": 17,
   "metadata": {},
   "outputs": [],
   "source": [
    "#This is the output layer of the neural network\n",
    "def outputlayer(inputx):\n",
    "    \n",
    "    #Creating wheights: AND wheights\n",
    "    theta = np.array([[-30, 20, 20]])\n",
    "    \n",
    "    #Attach 1 to the input for biasing purposes\n",
    "    inputx = np.hstack(([1], inputx))\n",
    "    \n",
    "    #Shape input as a column vector\n",
    "    inputx = inputx.reshape([-1, 1])\n",
    "    \n",
    "    #Apply template to finalize network layer\n",
    "    out = perceptronlayer(theta, inputx)\n",
    "    \n",
    "    return out"
   ]
  },
  {
   "cell_type": "markdown",
   "metadata": {},
   "source": [
    "## Create Sigmoid Function"
   ]
  },
  {
   "cell_type": "code",
   "execution_count": 18,
   "metadata": {},
   "outputs": [],
   "source": [
    "#Build the sigmoid function\n",
    "def sigmoid(z):\n",
    "    h = 1/(1 + np.exp(-z))\n",
    "    \n",
    "    #Approximate sigmoid output to 1 or 0\n",
    "    if(h > 0.6):\n",
    "        return 1\n",
    "    elif(h < 0.4):\n",
    "        return 0\n",
    "    else:\n",
    "        return \"unsure\""
   ]
  },
  {
   "cell_type": "markdown",
   "metadata": {},
   "source": [
    "## Driver Code"
   ]
  },
  {
   "cell_type": "code",
   "execution_count": 24,
   "metadata": {},
   "outputs": [
    {
     "name": "stdout",
     "output_type": "stream",
     "text": [
      "Result Truth Table\n",
      "\n",
      "Input [0 0] \t Output [0]\n",
      "Input [0 1] \t Output [1]\n",
      "Input [1 0] \t Output [1]\n",
      "Input [1 1] \t Output [0]\n"
     ]
    }
   ],
   "source": [
    "#Pass in each row of input to the neural network to get each output\n",
    "print(\"Result Truth Table\\n\")\n",
    "for x in inputx:\n",
    "    h = layerone(x)\n",
    "    y = outputlayer(h)\n",
    "    print(\"Input\", x, \"\\t\",\"Output\", y.ravel())"
   ]
  },
  {
   "cell_type": "code",
   "execution_count": null,
   "metadata": {},
   "outputs": [],
   "source": []
  }
 ],
 "metadata": {
  "kernelspec": {
   "display_name": "Python 3",
   "language": "python",
   "name": "python3"
  },
  "language_info": {
   "codemirror_mode": {
    "name": "ipython",
    "version": 3
   },
   "file_extension": ".py",
   "mimetype": "text/x-python",
   "name": "python",
   "nbconvert_exporter": "python",
   "pygments_lexer": "ipython3",
   "version": "3.7.3"
  }
 },
 "nbformat": 4,
 "nbformat_minor": 4
}
